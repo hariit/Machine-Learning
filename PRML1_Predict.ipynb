{
 "cells": [
  {
   "cell_type": "code",
   "execution_count": 1,
   "metadata": {},
   "outputs": [],
   "source": [
    "from sklearn.externals import joblib"
   ]
  },
  {
   "cell_type": "code",
   "execution_count": 2,
   "metadata": {},
   "outputs": [],
   "source": [
    "model = joblib.load(\"trained_credit_risk_model.pkl\")"
   ]
  },
  {
   "cell_type": "code",
   "execution_count": 74,
   "metadata": {},
   "outputs": [],
   "source": [
    "value_to_predict = [20000000, #Credit amount\n",
    "30, #Age in years,\n",
    "24, #Duration in month,\n",
    "1, #Status of existing checking account_0 <= <200 SGD,\n",
    "0, #Status of existing checking account_<0 SGD,\n",
    "0, #Status of existing checking account_>= 200 SGD,\n",
    "0, #Status of existing checking account_no checking account,\n",
    "0, #Credit history_all credits at this bank paid back duly,\n",
    "1, #Credit history_critical account,\n",
    "0, #Credit history_delay in paying off,\n",
    "0, #Credit history_existing credits paid back duly till now,\n",
    "0, #Credit history_no credits taken,\n",
    "1, #Purpose_business,\n",
    "0, #Purpose_car (new),\n",
    "0, #Purpose_car (used),\n",
    "0, #Purpose_domestic appliances,\n",
    "1, #Purpose_education,\n",
    "0, #Purpose_furniture/equipment,\n",
    "0, #Purpose_others,\n",
    "0, #Purpose_radio/television,\n",
    "0, #Purpose_repairs,\n",
    "0, #Purpose_retraining,\n",
    "0, #Savings account/bonds_100 <= <500 SGD,\n",
    "0, #Savings account/bonds_500 <= < 1000 SGD,\n",
    "0, #Savings account/bonds_<100 SGD,\n",
    "0, #Savings account/bonds_>= 1000 SGD,\n",
    "1, #Savings account/bonds_no savings account,\n",
    "0, #Present employment since_1<= < 4 years,\n",
    "0, #Present employment since_4<= <7 years,\n",
    "0, #Present employment since_<1 years,\n",
    "0, #Present employment since_>=7 years,\n",
    "1, #Present employment since_unemployed,\n",
    "0, #Personal status and sex_female:divorced/separated/married,\n",
    "0, #Personal status and sex_male:divorced/separated,\n",
    "1, #Personal status and sex_male:married/widowed,\n",
    "0, #Personal status and sex_male:single,\n",
    "0, #Property_car or other,\n",
    "0, #Property_real estate,\n",
    "1, #Property_savings agreement/life insurance,\n",
    "0, #Property_unknown / no property,\n",
    "1, #Other installment plans_bank,\n",
    "0, #Other installment plans_none,\n",
    "0, #Other installment plans_store,\n",
    "0, #Housing_for free,\n",
    "0, #Housing_own,\n",
    "1, #Housing_rent,\n",
    "1, #foreign worker_no,\n",
    "0 #foreign worker_yes\n",
    "]"
   ]
  },
  {
   "cell_type": "code",
   "execution_count": 75,
   "metadata": {},
   "outputs": [],
   "source": [
    "predicted_risk_values = model.predict(value_to_predict)"
   ]
  },
  {
   "cell_type": "code",
   "execution_count": 76,
   "metadata": {},
   "outputs": [
    {
     "name": "stdout",
     "output_type": "stream",
     "text": [
      "This customer is a Good Risk customer\n"
     ]
    }
   ],
   "source": [
    "risk={1:\"Good Risk\", 0:\"Bad Risk\"}\n",
    "print(\"This customer is a {} customer\".format(risk.get(predicted_risk_values[0])))"
   ]
  },
  {
   "cell_type": "code",
   "execution_count": null,
   "metadata": {},
   "outputs": [],
   "source": []
  }
 ],
 "metadata": {
  "kernelspec": {
   "display_name": "Python 3",
   "language": "python",
   "name": "python3"
  },
  "language_info": {
   "codemirror_mode": {
    "name": "ipython",
    "version": 3
   },
   "file_extension": ".py",
   "mimetype": "text/x-python",
   "name": "python",
   "nbconvert_exporter": "python",
   "pygments_lexer": "ipython3",
   "version": "3.7.1"
  }
 },
 "nbformat": 4,
 "nbformat_minor": 2
}
